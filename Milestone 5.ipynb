{
  "cells": [
    {
      "cell_type": "markdown",
      "metadata": {
        "colab_type": "text",
        "id": "M3pfcGekjp-h"
      },
      "source": [
        "This notebook shows how to build a simple environment that models a warehouse with rows of shelves. The robot, denoted by an 'X' when rendering, has to go to the bottom right."
      ]
    },
    {
      "cell_type": "code",
      "execution_count": 1,
      "metadata": {
        "colab": {},
        "colab_type": "code",
        "id": "Jkgv0jAmGIoU"
      },
      "outputs": [],
      "source": [
        "import numpy as np\n",
        "import matplotlib.pyplot as plt"
      ]
    },
    {
      "cell_type": "code",
      "execution_count": 132,
      "metadata": {
        "colab": {},
        "colab_type": "code",
        "id": "fItoQIRnGSAO"
      },
      "outputs": [],
      "source": [
        "class GridWorld(object):\n",
        "    def __init__(self):\n",
        "        self.m = 9\n",
        "        self.n = 9\n",
        "        self.grid = np.zeros((self.m, self.n))\n",
        "        self.grid[1:-1,1:8:2] = 2 # '2' is just a marker for shelf grids, see render()\n",
        "        self.stateSpace = [i for i in range(self.m*self.n)]\n",
        "        self.stateSpace.remove(80)\n",
        "        self.stateSpacePlus = [i for i in range(self.m*self.n)]\n",
        "        self.actionSpace = {'U': -self.m, 'D': self.m,\n",
        "                            'L': -1, 'R': 1}\n",
        "        self.possibleActions = ['U', 'D', 'L', 'R']\n",
        "        self.agentPosition = 0\n",
        "        self.grid[0][0] = 1\n",
        "\n",
        "    def isTerminalState(self, state):\n",
        "        return state in self.stateSpacePlus and state not in self.stateSpace\n",
        "\n",
        "    def getAgentRowAndColumn(self):\n",
        "        x = self.agentPosition // self.m\n",
        "        y = self.agentPosition % self.n\n",
        "        return x, y\n",
        "\n",
        "    def setState(self, state):\n",
        "        x, y = self.getAgentRowAndColumn()\n",
        "        self.grid[x][y] = 0\n",
        "        self.agentPosition = state\n",
        "        x, y = self.getAgentRowAndColumn()\n",
        "        self.grid[x][y] = 1\n",
        "\n",
        "    def offGridMove(self, newState, oldState):\n",
        "        # if we move into a row not in the grid\n",
        "        if newState not in self.stateSpacePlus:\n",
        "            return True\n",
        "        # if we're trying to wrap around to next row\n",
        "        elif oldState % self.m == 0 and newState  % self.m == self.m - 1:\n",
        "            return True\n",
        "        elif oldState % self.m == self.m - 1 and newState % self.m == 0:\n",
        "            return True\n",
        "        # if agent is crashing into shelves\n",
        "        elif self.grid[newState // self.m][newState % self.n] == 6:\n",
        "            return True # Alternatively, penalise moves that lead into shelves\n",
        "        else:\n",
        "            return False\n",
        "\n",
        "    def step(self, action):\n",
        "        agentX, agentY = self.getAgentRowAndColumn()\n",
        "        resultingState = self.agentPosition + self.actionSpace[action]\n",
        "        reward = -1 if not self.isTerminalState(resultingState) else 0\n",
        "        if not self.offGridMove(resultingState, self.agentPosition):\n",
        "            self.setState(resultingState)\n",
        "            return resultingState, reward, \\\n",
        "                   self.isTerminalState(resultingState), None\n",
        "        else:\n",
        "            return self.agentPosition, reward, \\\n",
        "                   self.isTerminalState(self.agentPosition), None\n",
        "\n",
        "    def reset(self):\n",
        "        self.agentPosition = 0\n",
        "        self.grid = np.zeros((self.m,self.n))\n",
        "        self.grid[0][0] = 1\n",
        "        self.grid[1:-1,1:8:2] = 2\n",
        "        return self.agentPosition\n",
        "\n",
        "    def render(self):\n",
        "      x, y = self.getAgentRowAndColumn()\n",
        "      print('-----------------------------------------------------------------')\n",
        "      for row in self.grid:\n",
        "          for col in row:\n",
        "              if col == 0:\n",
        "                  print('-', end='\\t')\n",
        "              elif col == 1:\n",
        "                  print('X', end='\\t')\n",
        "              elif col == 2:\n",
        "                  print('S', end='\\t')\n",
        "          print('\\n')\n",
        "      print('-----------------------------------------------------------------')\n",
        "\n",
        "    def actionSpaceSample(self):\n",
        "        return np.random.choice(self.possibleActions)\n",
        "\n",
        "def maxAction(Q, state, actions):\n",
        "    values = np.array([Q[state,a] for a in actions])\n",
        "    action = np.argmax(values)\n",
        "    return actions[action]"
      ]
    },
    {
      "cell_type": "markdown",
      "metadata": {
        "colab_type": "text",
        "id": "qSja8sQhjUsw"
      },
      "source": [
        "Training an agent with the custom environment built"
      ]
    },
    {
      "cell_type": "code",
      "execution_count": 133,
      "metadata": {
        "colab": {
          "base_uri": "https://localhost:8080/",
          "height": 366
        },
        "colab_type": "code",
        "id": "fO3f-AlKGVmA",
        "outputId": "834bf957-cb6a-4152-9352-e7b6a77bcea5"
      },
      "outputs": [
        {
          "name": "stdout",
          "output_type": "stream",
          "text": [
            "starting game  0\n",
            "starting game  2000\n",
            "starting game  4000\n",
            "starting game  6000\n",
            "starting game  8000\n"
          ]
        },
        {
          "data": {
            "image/png": "[encoded data removed]",
            "text/plain": [
              "<Figure size 432x288 with 1 Axes>"
            ]
          },
          "metadata": {
            "needs_background": "light",
            "tags": []
          },
          "output_type": "display_data"
        }
      ],
      "source": [
        "env = GridWorld()\n",
        "# model hyperparameters\n",
        "ALPHA = 0.1\n",
        "GAMMA = 1.0\n",
        "EPS = 1.0\n",
        "\n",
        "Q = {}\n",
        "for state in env.stateSpacePlus:\n",
        "    for action in env.possibleActions:\n",
        "        Q[state, action] = 0\n",
        "\n",
        "numGames = 10000\n",
        "totalREwards = np.zeros(numGames)\n",
        "for i in range(numGames):\n",
        "    if i % 2000 == 0:\n",
        "        print('starting game ', i)\n",
        "    done = False\n",
        "    epRewards = 0\n",
        "    observation = env.reset()\n",
        "    while not done:\n",
        "        rand = np.random.random()\n",
        "        action = maxAction(Q,observation, env.possibleActions) if rand < (1-EPS) \\\n",
        "                                                else env.actionSpaceSample()\n",
        "        observation_, reward, done, info = env.step(action)\n",
        "        epRewards += reward\n",
        "\n",
        "        action_ = maxAction(Q, observation_, env.possibleActions)\n",
        "        Q[observation,action] = Q[observation,action] + ALPHA*(reward + \\\n",
        "                    GAMMA*Q[observation_,action_] - Q[observation,action])\n",
        "        observation = observation_\n",
        "    if EPS - 2 / numGames > 0:\n",
        "        EPS -= 2 / numGames\n",
        "    else:\n",
        "        EPS = 0\n",
        "    totalREwards[i] = epRewards\n",
        "\n",
        "plt.plot(totalREwards)\n",
        "plt.ylabel('Returns')\n",
        "plt.xlabel('Episode')\n",
        "plt.show()"
      ]
    },
    {
      "cell_type": "markdown",
      "metadata": {
        "colab_type": "text",
        "id": "iDAYWRJqjZxO"
      },
      "source": [
        "Visualising an episode with the trained agent"
      ]
    },
    {
      "cell_type": "code",
      "execution_count": 134,
      "metadata": {
        "colab": {
          "base_uri": "https://localhost:8080/",
          "height": 364
        },
        "colab_type": "code",
        "id": "bmfyUpwpJmrs",
        "outputId": "f6d74b1d-59d8-4d50-9eb5-08f026c1ab65"
      },
      "outputs": [
        {
          "name": "stdout",
          "output_type": "stream",
          "text": [
            "-----------------------------------------------------------------\n",
            "-\t-\t-\t-\t-\t-\t-\t-\t-\t\n",
            "\n",
            "-\tS\t-\tS\t-\tS\t-\tS\t-\t\n",
            "\n",
            "-\tS\tX\tS\t-\tS\t-\tS\t-\t\n",
            "\n",
            "-\tS\t-\tS\t-\tS\t-\tS\t-\t\n",
            "\n",
            "-\tS\t-\tS\t-\tS\t-\tS\t-\t\n",
            "\n",
            "-\tS\t-\tS\t-\tS\t-\tS\t-\t\n",
            "\n",
            "-\tS\t-\tS\t-\tS\t-\tS\t-\t\n",
            "\n",
            "-\tS\t-\tS\t-\tS\t-\tS\t-\t\n",
            "\n",
            "-\t-\t-\t-\t-\t-\t-\t-\t-\t\n",
            "\n",
            "-----------------------------------------------------------------\n"
          ]
        }
      ],
      "source": [
        "env.reset()\n",
        "env.setState(20)\n",
        "env.render()"
      ]
    },
    {
      "cell_type": "code",
      "execution_count": 135,
      "metadata": {
        "colab": {},
        "colab_type": "code",
        "id": "hWDKFlXLZAov"
      },
      "outputs": [],
      "source": [
        "from IPython.display import clear_output\n",
        "from time import sleep"
      ]
    },
    {
      "cell_type": "code",
      "execution_count": 136,
      "metadata": {
        "colab": {
          "base_uri": "https://localhost:8080/",
          "height": 364
        },
        "colab_type": "code",
        "id": "rdgOSsfpJ3hB",
        "outputId": "dfe938c8-fa46-4488-ad34-c1577dff72b1"
      },
      "outputs": [
        {
          "name": "stdout",
          "output_type": "stream",
          "text": [
            "-----------------------------------------------------------------\n",
            "-\t-\t-\t-\t-\t-\t-\t-\t-\t\n",
            "\n",
            "-\tS\t-\tS\t-\tS\t-\tS\t-\t\n",
            "\n",
            "-\tS\t-\tS\t-\tS\t-\tS\t-\t\n",
            "\n",
            "-\tS\t-\tS\t-\tS\t-\tS\t-\t\n",
            "\n",
            "-\tS\t-\tS\t-\tS\t-\tS\t-\t\n",
            "\n",
            "-\tS\t-\tS\t-\tS\t-\tS\t-\t\n",
            "\n",
            "-\tS\t-\tS\t-\tS\t-\tS\t-\t\n",
            "\n",
            "-\tS\t-\tS\t-\tS\t-\tS\t-\t\n",
            "\n",
            "-\t-\t-\t-\t-\t-\t-\t-\tX\t\n",
            "\n",
            "-----------------------------------------------------------------\n"
          ]
        }
      ],
      "source": [
        "done = False\n",
        "observation = 20\n",
        "while not done:\n",
        "    action = maxAction(Q,observation, env.possibleActions)\n",
        "    observation, reward, done, info = env.step(action)\n",
        "    clear_output(wait=True)\n",
        "    env.render()\n",
        "    sleep(.3)"
      ]
    },
    {
      "cell_type": "code",
      "execution_count": null,
      "metadata": {
        "colab": {},
        "colab_type": "code",
        "id": "8BFY-nCa29zE"
      },
      "outputs": [],
      "source": []
    }
  ],
  "metadata": {
    "colab": {
      "collapsed_sections": [],
      "name": "Milestone 5",
      "provenance": []
    },
    "kernelspec": {
      "display_name": "synthetic_data_env",
      "language": "python",
      "name": "python3"
    },
    "language_info": {
      "codemirror_mode": {
        "name": "ipython",
        "version": 3
      },
      "file_extension": ".py",
      "mimetype": "text/x-python",
      "name": "python",
      "nbconvert_exporter": "python",
      "pygments_lexer": "ipython3",
      "version": "3.10.18"
    }
  },
  "nbformat": 4,
  "nbformat_minor": 0
}
