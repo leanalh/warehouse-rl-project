{
  "cells": [
    {
      "cell_type": "markdown",
      "metadata": {
        "colab_type": "text",
        "id": "2FeEfqzKOGeo"
      },
      "source": [
        "# Milestone 2: Implementing Q Learning"
      ]
    },
    {
      "cell_type": "markdown",
      "metadata": {
        "colab_type": "text",
        "id": "u74yD8zxNr1U"
      },
      "source": [
        "Install the necessary libraries."
      ]
    },
    {
      "cell_type": "code",
      "execution_count": null,
      "metadata": {
        "colab": {
          "base_uri": "https://localhost:8080/",
          "height": 208
        },
        "colab_type": "code",
        "id": "RijPuaR7Fl2o",
        "outputId": "dadb1f50-d68b-4203-e170-e4c613c19d63"
      },
      "outputs": [
        {
          "name": "stdout",
          "output_type": "stream",
          "text": [
            "Requirement already satisfied: cmake in /usr/local/lib/python3.6/dist-packages (3.12.0)\n",
            "Requirement already satisfied: gym[atari] in /usr/local/lib/python3.6/dist-packages (0.17.2)\n",
            "Requirement already satisfied: scipy in /usr/local/lib/python3.6/dist-packages (1.4.1)\n",
            "Requirement already satisfied: numpy>=1.10.4 in /usr/local/lib/python3.6/dist-packages (from gym[atari]) (1.18.4)\n",
            "Requirement already satisfied: pyglet<=1.5.0,>=1.4.0 in /usr/local/lib/python3.6/dist-packages (from gym[atari]) (1.5.0)\n",
            "Requirement already satisfied: cloudpickle<1.4.0,>=1.2.0 in /usr/local/lib/python3.6/dist-packages (from gym[atari]) (1.3.0)\n",
            "Requirement already satisfied: atari-py~=0.2.0; extra == \"atari\" in /usr/local/lib/python3.6/dist-packages (from gym[atari]) (0.2.6)\n",
            "Requirement already satisfied: opencv-python; extra == \"atari\" in /usr/local/lib/python3.6/dist-packages (from gym[atari]) (4.1.2.30)\n",
            "Requirement already satisfied: Pillow; extra == \"atari\" in /usr/local/lib/python3.6/dist-packages (from gym[atari]) (7.0.0)\n",
            "Requirement already satisfied: future in /usr/local/lib/python3.6/dist-packages (from pyglet<=1.5.0,>=1.4.0->gym[atari]) (0.16.0)\n",
            "Requirement already satisfied: six in /usr/local/lib/python3.6/dist-packages (from atari-py~=0.2.0; extra == \"atari\"->gym[atari]) (1.12.0)\n"
          ]
        }
      ],
      "source": [
        "!pip install cmake 'gym[atari]' scipy"
      ]
    },
    {
      "cell_type": "markdown",
      "metadata": {
        "colab_type": "text",
        "id": "atnLNyTxNqSn"
      },
      "source": [
        "Import the gym environment."
      ]
    },
    {
      "cell_type": "code",
      "execution_count": 1,
      "metadata": {
        "colab": {
          "base_uri": "https://localhost:8080/",
          "height": 156
        },
        "colab_type": "code",
        "id": "XuyNTldlIfrA",
        "outputId": "16c9b5a5-0c04-4131-c6da-09f1a40f3d8a"
      },
      "outputs": [
        {
          "name": "stdout",
          "output_type": "stream",
          "text": [
            "+---------+\n",
            "|R: | : :\u001b[35m\u001b[43mG\u001b[0m\u001b[0m|\n",
            "| : | : : |\n",
            "| : : : : |\n",
            "| | : | : |\n",
            "|Y| : |\u001b[34;1mB\u001b[0m: |\n",
            "+---------+\n",
            "\n"
          ]
        }
      ],
      "source": [
        "import gym\n",
        "env = gym.make(\"Taxi-v3\").env\n",
        "env.render()"
      ]
    },
    {
      "cell_type": "markdown",
      "metadata": {
        "colab_type": "text",
        "id": "yA9oU6qiV7s8"
      },
      "source": [
        "Initialise the Q Table"
      ]
    },
    {
      "cell_type": "code",
      "execution_count": 2,
      "metadata": {
        "colab": {},
        "colab_type": "code",
        "id": "XG6m8bkQQ-ga"
      },
      "outputs": [],
      "source": [
        "import numpy as np\n",
        "q_table = np.zeros([env.observation_space.n, env.action_space.n])"
      ]
    },
    {
      "cell_type": "code",
      "execution_count": 3,
      "metadata": {
        "colab": {
          "base_uri": "https://localhost:8080/",
          "height": 104
        },
        "colab_type": "code",
        "id": "Y352d5onWKXO",
        "outputId": "edbd49af-3bc0-4f27-b9e1-f3c0e6803799"
      },
      "outputs": [
        {
          "name": "stdout",
          "output_type": "stream",
          "text": [
            "Episode: 10000\n",
            "Training finished.\n",
            "\n",
            "CPU times: user 12.4 s, sys: 837 ms, total: 13.3 s\n",
            "Wall time: 15 s\n"
          ]
        }
      ],
      "source": [
        "%%time\n",
        "\n",
        "# Training an agent\n",
        "\n",
        "import random\n",
        "from IPython.display import clear_output\n",
        "\n",
        "'''Step 1: Set up hyperparameters and start empty for loop for episodes'''\n",
        "\n",
        "# Hyperparameters\n",
        "alpha = 0.1\n",
        "gamma = 0.6\n",
        "# epsilon = 0.1 \n",
        "\n",
        "episode = list(range(1, 10001))\n",
        "reward_in_episode = []\n",
        "\n",
        "\n",
        "for i in range(1, 10001):\n",
        "  '''Step 2: Reset everything in episode and start empty while-not-done loop'''\n",
        "  state = env.reset()\n",
        "\n",
        "  reward, reward_in_this_epsiode = 0, 0\n",
        "  done = False\n",
        "\n",
        "  while not done:\n",
        "    '''Step 3: Choose action based on exploration vs exploitation'''\n",
        "    if random.uniform(0, 1) < (1-i)/10000: \n",
        "      action = env.action_space.sample()  # Explore a random action\n",
        "    else:\n",
        "      action = np.argmax(q_table[state])  # Exploit current best action\n",
        "\n",
        "    '''Step 4: Take the step, saving the returned values'''\n",
        "    next_state, reward, done, info = env.step(action)\n",
        "\n",
        "    reward_in_this_epsiode += reward\n",
        "\n",
        "    '''Step 5: Calculate the new state-action value and replace the old one in\n",
        "       the Q table'''\n",
        "    old_value = q_table[state, action]\n",
        "    next_max = np.max(q_table[next_state])\n",
        "\n",
        "    new_value = (1 - alpha) * old_value + alpha * (reward + gamma * next_max)\n",
        "    q_table[state, action] = new_value\n",
        "\n",
        "    '''Step 6: Update the state'''\n",
        "    state = next_state\n",
        "\n",
        "    '''Step 7: Show logs to track progress'''\n",
        "    '''(Can also use tqdm to do this)'''\n",
        "    if i % 100 == 0:\n",
        "      clear_output(wait=True)\n",
        "      print(f\"Episode: {i}\")\n",
        "\n",
        "  reward_in_episode.append(reward_in_this_epsiode)\n",
        "\n",
        "print(\"Training finished.\\n\")"
      ]
    },
    {
      "cell_type": "markdown",
      "metadata": {
        "colab_type": "text",
        "id": "tm3Wkk54SB8F"
      },
      "source": [
        "Visualise an episode of the trained agent."
      ]
    },
    {
      "cell_type": "code",
      "execution_count": 4,
      "metadata": {
        "colab": {
          "base_uri": "https://localhost:8080/",
          "height": 173
        },
        "colab_type": "code",
        "id": "JVmALWqRRJkg",
        "outputId": "cd0e21cf-81f2-4924-a91e-036509203875"
      },
      "outputs": [
        {
          "name": "stdout",
          "output_type": "stream",
          "text": [
            "State: 168\n",
            "+---------+\n",
            "|\u001b[35mR\u001b[0m: | : :G|\n",
            "| : | :\u001b[43m \u001b[0m: |\n",
            "| : : : : |\n",
            "| | : | : |\n",
            "|\u001b[34;1mY\u001b[0m| : |B: |\n",
            "+---------+\n",
            "  (Dropoff)\n"
          ]
        }
      ],
      "source": [
        "'''Set a starting state'''\n",
        "state = env.encode(1, 3, 2, 0)\n",
        "print(\"State:\", state)\n",
        "\n",
        "env.s = state\n",
        "env.render()"
      ]
    },
    {
      "cell_type": "code",
      "execution_count": 5,
      "metadata": {
        "colab": {
          "base_uri": "https://localhost:8080/",
          "height": 34
        },
        "colab_type": "code",
        "id": "ZUh70-w1QH3f",
        "outputId": "9c732f69-de36-4b60-ac08-87b53dcdd091"
      },
      "outputs": [
        {
          "name": "stdout",
          "output_type": "stream",
          "text": [
            "Timesteps taken: 12\n"
          ]
        }
      ],
      "source": [
        "'''Run the episode, save the frames'''\n",
        "frames = []\n",
        "\n",
        "reward, timesteps = 0, 0\n",
        "done = False\n",
        "\n",
        "while not done:\n",
        "  '''\n",
        "  Notice how, during training, your policy involves a trade-off between\n",
        "  exploration and exploitation, but during inference (below), it's only\n",
        "  about exploitation? This is what off-policy means!\n",
        "  '''\n",
        "  action = np.argmax(q_table[state])\n",
        "\n",
        "  state, reward, done, info = env.step(action)\n",
        "\n",
        "  frames.append({\n",
        "      'frame': env.render(mode='ansi'),\n",
        "      'state': state,\n",
        "      'action': action,\n",
        "      'reward': reward\n",
        "  })\n",
        "\n",
        "  timesteps += 1\n",
        "\n",
        "print(\"Timesteps taken: {}\".format(timesteps))"
      ]
    },
    {
      "cell_type": "code",
      "execution_count": 6,
      "metadata": {
        "colab": {
          "base_uri": "https://localhost:8080/",
          "height": 243
        },
        "colab_type": "code",
        "id": "Dn63sdEIUIQ3",
        "outputId": "7b6f3f3d-6d1c-4555-ad3c-a7f315345d84"
      },
      "outputs": [
        {
          "name": "stdout",
          "output_type": "stream",
          "text": [
            "+---------+\n",
            "|\u001b[35m\u001b[34;1m\u001b[43mR\u001b[0m\u001b[0m\u001b[0m: | : :G|\n",
            "| : | : : |\n",
            "| : : : : |\n",
            "| | : | : |\n",
            "|Y| : |B: |\n",
            "+---------+\n",
            "  (Dropoff)\n",
            "\n",
            "Timestep: 12\n",
            "State: 0\n",
            "Action: 5\n",
            "Reward: 20\n"
          ]
        }
      ],
      "source": [
        "from IPython.display import clear_output\n",
        "from time import sleep\n",
        "\n",
        "def show_frames(frames):\n",
        "  for i, frame in enumerate(frames):\n",
        "    clear_output(wait=True)\n",
        "    print(frame['frame'])\n",
        "    print(f\"Timestep: {i + 1}\")\n",
        "    print(f\"State: {frame['state']}\")\n",
        "    print(f\"Action: {frame['action']}\")\n",
        "    print(f\"Reward: {frame['reward']}\")\n",
        "    sleep(.1)\n",
        "\n",
        "show_frames(frames)"
      ]
    },
    {
      "cell_type": "code",
      "execution_count": 7,
      "metadata": {
        "colab": {
          "base_uri": "https://localhost:8080/",
          "height": 279
        },
        "colab_type": "code",
        "id": "coONP-iCUzPj",
        "outputId": "1eece6bb-e141-4738-92cd-19d86238aa90"
      },
      "outputs": [
        {
          "data": {
            "image/png": "[encoded data removed]",
            "text/plain": [
              "<Figure size 432x288 with 1 Axes>"
            ]
          },
          "metadata": {
            "needs_background": "light",
            "tags": []
          },
          "output_type": "display_data"
        }
      ],
      "source": [
        "import matplotlib.pyplot as plt\n",
        "%matplotlib inline\n",
        "\n",
        "plt.plot(episode, reward_in_episode)\n",
        "plt.xlabel('Training episode')\n",
        "plt.ylabel('Reward in episode')\n",
        "plt.show()"
      ]
    }
  ],
  "metadata": {
    "colab": {
      "name": "q_learning.ipynb",
      "provenance": []
    },
    "kernelspec": {
      "display_name": "Python 3",
      "language": "python",
      "name": "python3"
    },
    "language_info": {
      "name": "python",
      "version": "3.10.6 (main, Nov 14 2022, 16:10:14) [GCC 11.3.0]"
    },
    "vscode": {
      "interpreter": {
        "hash": "916dbcbb3f70747c44a77c7bcd40155683ae19c65e1c03b4aa3499c5328201f1"
      }
    }
  },
  "nbformat": 4,
  "nbformat_minor": 0
}
